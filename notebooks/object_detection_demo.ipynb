{
 "cells": [
  {
   "cell_type": "markdown",
   "metadata": {},
   "source": [
    "# Object Detection and Geolocation  \n",
    "\n",
    "This notebook demonstrates the object detection with GPS coordinates assignment. It uses a TensorFlow Hub model to detect objects in an image and assigns GPS coordinates based on the image's metadata."
   ]
  },
  {
   "cell_type": "code",
   "execution_count": null,
   "metadata": {},
   "outputs": [],
   "source": [
    "import sys\n",
    "sys.path.append('../src')\n",
    "import tensorflow_hub as hub\n",
    "import tensorflow as tf\n",
    "from utils import load_img, draw_boxes, display_image, save_to_excel\n",
    "import pandas as pd\n",
    "\n",
    "def run_detector(detector, path):\n",
    "    img = load_img(path)\n",
    "    converted_img = tf.image.convert_image_dtype(img, tf.float32)[tf.newaxis, ...]\n",
    "    result = detector(converted_img)\n",
    "    result = {key: value.numpy() for key, value in result.items()}\n",
    "    print(\"Found %d objects.\" % len(result[\"detection_scores\"]))\n",
    "\n",
    "    image_with_boxes, detected_objects = draw_boxes(\n",
    "        img.numpy(), result[\"detection_boxes\"], result[\"detection_class_entities\"], result[\"detection_scores\"], path)\n",
    "\n",
    "    display_image(image_with_boxes)\n",
    "    save_to_excel(detected_objects)\n",
    "\n",
    "module_handle = \"https://tfhub.dev/google/faster_rcnn/openimages_v4/inception_resnet_v2/1\"\n",
    "detector = hub.load(module_handle).signatures['default']\n",
    "input_image_path = \"../data/input_image.jpg\"  # Replace with your image path\n",
    "run_detector(detector, input_image_path)"
   ]
  },
  {
   "cell_type": "markdown",
   "metadata": {},
   "source": [
    "## Detected objects  \n",
    "\n",
    "The detected objects and their coordinates are saved in the `detected_objects.xlsx` file."
   ]
  },
  {
   "cell_type": "code",
   "execution_count": null,
   "metadata": {},
   "outputs": [],
   "source": [
    "df = pd.read_excel('detected_objects.xlsx')\n",
    "df"
   ]
  }
 ],
 "metadata": {
  "language_info": {
   "name": "python"
  }
 },
 "nbformat": 4,
 "nbformat_minor": 2
}
